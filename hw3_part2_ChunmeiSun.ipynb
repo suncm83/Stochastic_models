{
 "cells": [
  {
   "cell_type": "code",
   "execution_count": 1,
   "metadata": {},
   "outputs": [],
   "source": [
    "import matplotlib.pyplot as plt\n",
    "import numpy as np\n",
    "import math"
   ]
  },
  {
   "cell_type": "markdown",
   "metadata": {},
   "source": [
    "Question 1(c)"
   ]
  },
  {
   "cell_type": "code",
   "execution_count": 2,
   "metadata": {},
   "outputs": [],
   "source": [
    "Q1_tau=1\n",
    "Q1_w=0.2\n",
    "Q1_v=1\n",
    "Q1_kk=25\n",
    "Q1_x=0.2\n",
    "Q1_t0=0\n",
    "Q1_u0=0\n",
    "Q1_ddt=0.001\n",
    "\n",
    "Q1_Nspike=10000\n",
    "Q1_NSimulation=1000\n",
    "Q1_u_final=np.zeros(Q1_NSimulation)\n",
    "\n",
    "Q1_RI0=Q1_tau*Q1_v*Q1_kk*Q1_w\n",
    "Q1_sigma=(Q1_tau*Q1_v*Q1_kk*Q1_w**2)**0.5\n"
   ]
  },
  {
   "cell_type": "code",
   "execution_count": 3,
   "metadata": {},
   "outputs": [
    {
     "data": {
      "text/plain": [
       "<matplotlib.legend.Legend at 0x20d24926940>"
      ]
     },
     "execution_count": 3,
     "metadata": {},
     "output_type": "execute_result"
    },
    {
     "data": {
      "image/png": "[encoded data removed]",
      "text/plain": [
       "<Figure size 432x288 with 1 Axes>"
      ]
     },
     "metadata": {
      "needs_background": "light"
     },
     "output_type": "display_data"
    }
   ],
   "source": [
    "for Q1_ii in range(Q1_NSimulation):\n",
    "\n",
    "    \n",
    "\n",
    "    Q1_t_spike=np.random.poisson(1/Q1_kk,Q1_Nspike)\n",
    "    Q1_N=math.ceil(np.sum(Q1_t_spike)/Q1_ddt)\n",
    "    Q1_t=np.zeros(Q1_N)\n",
    "    Q1_u=np.zeros(Q1_N)\n",
    "    Q1_i=0\n",
    "    Q1_j=0\n",
    "    Q1_k=0\n",
    "    Q1_dudt=0\n",
    "\n",
    "    Q1_t_dur=0\n",
    "\n",
    "    for Q1_i in range(1,Q1_N):\n",
    "        Q1_t[Q1_i]=Q1_t[Q1_i-1]+Q1_ddt\n",
    "        Q1_u[Q1_i]=Q1_u[Q1_i-1]+Q1_dudt*Q1_ddt\n",
    "        Q1_t_dur=Q1_t_dur+Q1_ddt\n",
    "        if Q1_t_dur>=Q1_t_spike[Q1_j]:\n",
    "                Q1_nspike=0\n",
    "                Q1_t_dur_spike=Q1_t_spike[Q1_j]\n",
    "                while Q1_t_dur>=Q1_t_dur_spike:\n",
    "                    Q1_j+=1\n",
    "                    Q1_nspike+=1\n",
    "                    Q1_t_dur_spike=Q1_t_dur_spike+Q1_t_spike[Q1_j]\n",
    "                Q1_u[Q1_i]=Q1_u[Q1_i]+Q1_nspike*Q1_w\n",
    "                Q1_t_dur=Q1_t_dur-Q1_t_dur_spike+Q1_t_spike[Q1_j]\n",
    "\n",
    "        Q1_dudt=-Q1_u[Q1_i]/Q1_tau\n",
    "\n",
    "    Q1_u_final[Q1_ii]=Q1_u[Q1_N-1]\n",
    "\n",
    "Q1_u_final_hist_counts,Q1_u_final_hist_bins=np.histogram(Q1_u_final,bins=10,range=(0,10))\n",
    "\n",
    "Q1_u_Eq=range(11)\n",
    "Q1_p_Eq=np.zeros(len(Q1_u_Eq))\n",
    "for Q1_ii in range(len(Q1_u_Eq)):\n",
    "    Q1_p_Eq[Q1_ii]=(1/np.pi**0.5)*(1/Q1_sigma)*np.exp(-(Q1_u_Eq[Q1_ii]-Q1_RI0)**2/Q1_sigma**2)\n",
    "\n",
    "plt.hist(Q1_u_final_hist_bins[:-1], Q1_u_final_hist_bins, weights=Q1_u_final_hist_counts/Q1_NSimulation)\n",
    "plt.plot(Q1_u_Eq,Q1_p_Eq)\n",
    "plt.xlabel(\"u\")\n",
    "plt.ylabel(\"Probability\")\n",
    "plt.title(\"Comparison for u stationary distribution\")\n",
    "plt.legend([\"Equation\",\"Simulation\"])"
   ]
  },
  {
   "cell_type": "markdown",
   "metadata": {},
   "source": [
    "Question 2"
   ]
  },
  {
   "cell_type": "code",
   "execution_count": 4,
   "metadata": {},
   "outputs": [],
   "source": [
    "tau=1\n",
    "w=0.2\n",
    "v=1\n",
    "theta=5\n",
    "kk=25\n",
    "a=0\n",
    "x=0.2\n",
    "\n",
    "t0=0\n",
    "u0=0\n",
    "\n",
    "ddt=0.001\n",
    "firstpasstime=np.zeros(1000)\n"
   ]
  },
  {
   "cell_type": "code",
   "execution_count": 5,
   "metadata": {},
   "outputs": [
    {
     "name": "stdout",
     "output_type": "stream",
     "text": [
      "The expect time from simulation is 2.700369999999879. The time from formula is 2.16.\n"
     ]
    }
   ],
   "source": [
    "\n",
    "for ii in range(1000):\n",
    "\n",
    "    tf=[]\n",
    "\n",
    "    t_spike=np.random.exponential(1/kk,1000)\n",
    "    N=math.ceil(np.sum(t_spike)/ddt)\n",
    "    t=np.zeros(N)\n",
    "    u=np.zeros(N)\n",
    "    i=0\n",
    "    j=0\n",
    "    k=0\n",
    "    dudt=0\n",
    "\n",
    "    t_dur=0\n",
    "\n",
    "    for i in range(1,N):\n",
    "        t[i]=t[i-1]+ddt\n",
    "        u[i]=u[i-1]+dudt*ddt\n",
    "        t_dur=t_dur+ddt\n",
    "        if u[i-1]>=theta:\n",
    "            u[i]=u0\n",
    "            dudt=0\n",
    "            tf.append(t[i-1])\n",
    "\n",
    "        else:\n",
    "            if t_dur>=t_spike[j]:\n",
    "                nspike=0\n",
    "                t_dur_spike=t_spike[j]\n",
    "                while t_dur>=t_dur_spike:\n",
    "                    j+=1\n",
    "                    nspike+=1\n",
    "                    t_dur_spike=t_dur_spike+t_spike[j]\n",
    "                u[i]=u[i]+nspike*w\n",
    "                t_dur=t_dur-t_dur_spike+t_spike[j]\n",
    "\n",
    "            dudt=-u[i]/tau\n",
    "\n",
    "    firstpasstime[ii]=tf[0]\n",
    "\n",
    "time=np.mean(firstpasstime)\n",
    "\n",
    "print(f'The expect time from simulation is {time}. The time from formula is 2.16.')"
   ]
  },
  {
   "cell_type": "markdown",
   "metadata": {},
   "source": [
    "Question 5"
   ]
  },
  {
   "cell_type": "code",
   "execution_count": 6,
   "metadata": {},
   "outputs": [],
   "source": [
    "Q5_N=1000\n",
    "Q5_miu=[0.1/Q5_N, 1/Q5_N, 10/Q5_N]\n",
    "Q5_T=np.zeros([3,1000])\n",
    "\n",
    "\n",
    "for jj in range(1000):\n",
    "    for ii in range(len(Q5_miu)):\n",
    "        Q5_N_genotype1=1000\n",
    "        Q5_N_genotype2=0\n",
    "        Q5_N_genotype3=0\n",
    "        Q5_t=0\n",
    "        while Q5_N_genotype3 == 0:\n",
    "            Q5_t=Q5_t+1\n",
    "            Q5_p_geno1to2=Q5_N_genotype1*Q5_miu[ii]\n",
    "            Q5_temp=np.random.uniform()\n",
    "            if Q5_temp<=Q5_p_geno1to2:\n",
    "                Q5_N_genotype2=Q5_N_genotype2+1\n",
    "                Q5_N_genotype1=Q5_N_genotype1-1\n",
    "            Q5_p_geno2to3=Q5_N_genotype2*Q5_miu[ii]\n",
    "            Q5_temp=np.random.uniform()\n",
    "            if Q5_temp<=Q5_p_geno2to3:\n",
    "                Q5_N_genotype3=Q5_N_genotype3+1\n",
    "                Q5_N_genotype2=Q5_N_genotype2-1   \n",
    "                Q5_T[ii,jj]=Q5_t\n",
    "    \n"
   ]
  },
  {
   "cell_type": "code",
   "execution_count": 7,
   "metadata": {},
   "outputs": [
    {
     "data": {
      "text/plain": [
       "404.051"
      ]
     },
     "execution_count": 7,
     "metadata": {},
     "output_type": "execute_result"
    }
   ],
   "source": [
    "np.mean(Q5_T[0,:])"
   ]
  },
  {
   "cell_type": "code",
   "execution_count": 8,
   "metadata": {},
   "outputs": [
    {
     "data": {
      "text/plain": [
       "39.135"
      ]
     },
     "execution_count": 8,
     "metadata": {},
     "output_type": "execute_result"
    }
   ],
   "source": [
    "np.mean(Q5_T[1,:])"
   ]
  },
  {
   "cell_type": "code",
   "execution_count": 9,
   "metadata": {},
   "outputs": [
    {
     "data": {
      "text/plain": [
       "11.954"
      ]
     },
     "execution_count": 9,
     "metadata": {},
     "output_type": "execute_result"
    }
   ],
   "source": [
    "np.mean(Q5_T[2,:])"
   ]
  },
  {
   "cell_type": "code",
   "execution_count": null,
   "metadata": {},
   "outputs": [],
   "source": []
  }
 ],
 "metadata": {
  "kernelspec": {
   "display_name": "Python 3",
   "language": "python",
   "name": "python3"
  },
  "language_info": {
   "codemirror_mode": {
    "name": "ipython",
    "version": 3
   },
   "file_extension": ".py",
   "mimetype": "text/x-python",
   "name": "python",
   "nbconvert_exporter": "python",
   "pygments_lexer": "ipython3",
   "version": "3.7.1"
  }
 },
 "nbformat": 4,
 "nbformat_minor": 2
}
